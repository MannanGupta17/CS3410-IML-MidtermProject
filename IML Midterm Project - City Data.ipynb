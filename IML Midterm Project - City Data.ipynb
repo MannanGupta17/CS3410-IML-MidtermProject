{
 "cells": [
  {
   "cell_type": "markdown",
   "id": "6d49ca5d",
   "metadata": {},
   "source": [
    "# Data Cleaning and Preprocessing"
   ]
  },
  {
   "cell_type": "markdown",
   "id": "954ea517",
   "metadata": {},
   "source": [
    "Now, since our data contains missing values and such, we must ensure that our data is cleaned and then we can use the cleaned data to build our model upon, as missing data proves to be a grave hindrance."
   ]
  },
  {
   "cell_type": "code",
   "execution_count": 2,
   "id": "84e1d40d",
   "metadata": {},
   "outputs": [
    {
     "name": "stdout",
     "output_type": "stream",
     "text": [
      "Data cleaning and preprocessing complete. Clean data saved as 'city_day_clean.csv'.\n",
      "Initial data preview:\n",
      "        City        Date  PM2.5    PM10    NO    NO2    NOx    NH3    CO  \\\n",
      "0  Amaravati  2017-11-25  81.40  124.50  1.44  20.50  12.08  10.72  0.12   \n",
      "1  Amaravati  2017-11-26  78.32  129.06  1.26  26.00  14.85  10.28  0.14   \n",
      "2  Amaravati  2017-11-27  88.76  135.32  6.60  30.85  21.77  12.91  0.11   \n",
      "3  Amaravati  2017-11-28  64.18  104.09  2.56  28.07  17.01  11.42  0.09   \n",
      "4  Amaravati  2017-11-29  72.47  114.84  5.23  23.20  16.59  12.25  0.16   \n",
      "\n",
      "     SO2      O3  Benzene  Toluene  Xylene    AQI AQI_Bucket  \n",
      "0  15.24  127.09     0.20     6.50    0.06  184.0   Moderate  \n",
      "1  26.96  117.44     0.22     7.95    0.08  197.0   Moderate  \n",
      "2  33.59  111.81     0.29     7.63    0.12  198.0   Moderate  \n",
      "3  19.00  138.18     0.17     5.02    0.07  188.0   Moderate  \n",
      "4  10.55  109.74     0.21     4.71    0.08  173.0   Moderate  \n",
      "\n",
      "Data info:\n",
      "<class 'pandas.core.frame.DataFrame'>\n",
      "RangeIndex: 6236 entries, 0 to 6235\n",
      "Data columns (total 16 columns):\n",
      " #   Column      Non-Null Count  Dtype  \n",
      "---  ------      --------------  -----  \n",
      " 0   City        6236 non-null   object \n",
      " 1   Date        6236 non-null   object \n",
      " 2   PM2.5       6236 non-null   float64\n",
      " 3   PM10        6236 non-null   float64\n",
      " 4   NO          6236 non-null   float64\n",
      " 5   NO2         6236 non-null   float64\n",
      " 6   NOx         6236 non-null   float64\n",
      " 7   NH3         6236 non-null   float64\n",
      " 8   CO          6236 non-null   float64\n",
      " 9   SO2         6236 non-null   float64\n",
      " 10  O3          6236 non-null   float64\n",
      " 11  Benzene     6236 non-null   float64\n",
      " 12  Toluene     6236 non-null   float64\n",
      " 13  Xylene      6236 non-null   float64\n",
      " 14  AQI         6236 non-null   float64\n",
      " 15  AQI_Bucket  6236 non-null   object \n",
      "dtypes: float64(13), object(3)\n",
      "memory usage: 779.6+ KB\n",
      "None\n"
     ]
    }
   ],
   "source": [
    "import pandas as pd\n",
    "\n",
    "#Loading the data from CSV\n",
    "df = pd.read_csv('city_day.csv')\n",
    "\n",
    "#Removing duplicate rows\n",
    "df.drop_duplicates(inplace=True)\n",
    "\n",
    "#Handling missing values:\n",
    "df.dropna(inplace=True)\n",
    "\n",
    "#Cleaning column names by stripping any extra whitespace\n",
    "df.columns = df.columns.str.strip()\n",
    "\n",
    "#Converting date columns\n",
    "if 'date' in df.columns:\n",
    "    try:\n",
    "        df['date'] = pd.to_datetime(df['date'])\n",
    "    except Exception as e:\n",
    "        print(f\"Error converting 'date' column: {e}\")\n",
    "\n",
    "df.reset_index(drop=True, inplace=True)\n",
    "\n",
    "#Saving the cleaned data to a new CSV file\n",
    "df.to_csv('city_day_clean.csv', index=False)\n",
    "print(\"Data cleaning and preprocessing complete. Clean data saved as 'city_day_clean.csv'.\")\n",
    "\n",
    "print(\"Initial data preview:\")\n",
    "print(df.head())\n",
    "print(\"\\nData info:\")\n",
    "print(df.info())\n"
   ]
  },
  {
   "cell_type": "markdown",
   "id": "407f031c",
   "metadata": {},
   "source": [
    "Now that our data cleaning and preprocessing is complete, we can move towards building our model to predict AQI."
   ]
  },
  {
   "cell_type": "markdown",
   "id": "a217b925",
   "metadata": {},
   "source": [
    "We must now define Linear Regression as an algorithm. We do so by first defining Linear Regression as a class of several functions. The first function allows us to have an intercept in our model, the second function converts our input and output into arrays, and uses the normal equation $$\\theta = (X^TX)^{-1}X^Ty$$ to optimize and find theta. Now, since our fit_intercept is true, our $\\theta$ originally\\firstly takes the value of the intercept and keeps changing thereon to the coefficients of the values of the features in $X$ and the $\\theta$ is then returned as the predicted value."
   ]
  },
  {
   "cell_type": "code",
   "execution_count": 4,
   "id": "f0efa5d3",
   "metadata": {},
   "outputs": [],
   "source": [
    "import numpy as np\n",
    "\n",
    "class LinearRegression:\n",
    "    def __init__(self, fit_intercept=True):\n",
    "        self.fit_intercept = fit_intercept\n",
    "\n",
    "    def fit(self, X, y):\n",
    "        X = np.asarray(X)\n",
    "        y = np.asarray(y)\n",
    "        if self.fit_intercept:\n",
    "            # Add a column of ones for the intercept term\n",
    "            X = np.hstack([np.ones((X.shape[0], 1)), X])\n",
    "        # Use the pseudo-inverse to compute the coefficients (theta)\n",
    "        theta = np.linalg.pinv(X) @ y\n",
    "        if self.fit_intercept:\n",
    "            self.intercept_ = theta[0]\n",
    "            self.coef_ = theta[1:]\n",
    "        else:\n",
    "            self.intercept_ = 0.0\n",
    "            self.coef_ = theta\n",
    "\n",
    "    def predict(self, X):\n",
    "        X = np.asarray(X)\n",
    "        if self.fit_intercept:\n",
    "            return self.intercept_ + X @ self.coef_\n",
    "        return X @ self.coef_"
   ]
  },
  {
   "cell_type": "markdown",
   "id": "88011fcc",
   "metadata": {},
   "source": [
    "Now, we must define Random Forest Regression as well, but since it is extremely difficult to do so using only NumPy (and our RandomForestRegressor is taking too long to run), we import sklearn's RandomForestRegressor function but define a decision tree best split algorithm."
   ]
  },
  {
   "cell_type": "code",
   "execution_count": 5,
   "id": "cce1587d",
   "metadata": {},
   "outputs": [],
   "source": [
    " def _best_split(self, X, y):\n",
    "        m = X.shape[0]\n",
    "        if m <= 1:\n",
    "            return None, None\n",
    "        \n",
    "        #Initial variables\n",
    "        best_feature, best_threshold = None, None\n",
    "        best_var_reduction = -float('inf')\n",
    "        \n",
    "        current_var = np.var(y)\n",
    "        if current_var == 0:\n",
    "            return None, None\n",
    "        \n",
    "        n_features = X.shape[1]\n",
    "        features_idx = np.random.choice(n_features, size=int(np.sqrt(n_features)), replace=False)\n",
    "        \n",
    "        #Finding out the best feature and threshold\n",
    "        for feature in features_idx:\n",
    "            thresholds = np.unique(X[:, feature])\n",
    "            \n",
    "            if len(thresholds) == 1:\n",
    "                continue\n",
    "                \n",
    "            #Trying out different thresholds\n",
    "            for threshold in thresholds:\n",
    "                left_idx = X[:, feature] <= threshold\n",
    "                right_idx = ~left_idx\n",
    "                \n",
    "                if np.sum(left_idx) < self.min_samples_split or np.sum(right_idx) < self.min_samples_split:\n",
    "                    continue\n",
    "                \n",
    "                left_var = np.var(y[left_idx]) if np.sum(left_idx) > 0 else 0\n",
    "                right_var = np.var(y[right_idx]) if np.sum(right_idx) > 0 else 0\n",
    "                \n",
    "                n_left, n_right = np.sum(left_idx), np.sum(right_idx)\n",
    "                var_reduction = current_var - (n_left/m * left_var + n_right/m * right_var)\n",
    "                \n",
    "                if var_reduction > best_var_reduction:\n",
    "                    best_var_reduction = var_reduction\n",
    "                    best_feature = feature\n",
    "                    best_threshold = threshold"
   ]
  },
  {
   "cell_type": "code",
   "execution_count": 6,
   "id": "8680ae24",
   "metadata": {},
   "outputs": [
    {
     "name": "stdout",
     "output_type": "stream",
     "text": [
      "Linear Regression Performance:\n",
      "Mean Squared Error: 651.356782300921\n",
      "R2 Score: 0.9217139055744\n",
      "\n",
      "Random Forest Performance:\n",
      "Mean Squared Error: 423.7026379006411\n",
      "R2 Score: 0.9490754903911616\n"
     ]
    }
   ],
   "source": [
    "import pandas as pd\n",
    "import numpy as np\n",
    "from sklearn.model_selection import train_test_split\n",
    "from sklearn.ensemble import RandomForestRegressor\n",
    "from sklearn.metrics import mean_squared_error, r2_score\n",
    "\n",
    "#Loading the cleaned data\n",
    "df = pd.read_csv('city_day_clean.csv')\n",
    "\n",
    "numeric_cols = df.select_dtypes(include=[np.number]).columns.tolist()\n",
    "if 'AQI' not in numeric_cols:\n",
    "    raise ValueError(\"Target column 'AQI' must be numeric and present in the dataset.\")\n",
    "\n",
    "X = df[numeric_cols].drop('AQI', axis=1)\n",
    "y = df['AQI']\n",
    "\n",
    "X_train, X_test, y_train, y_test = train_test_split(X, y, test_size=0.2, random_state=42)\n",
    "\n",
    "#Linear Regression Model\n",
    "lin_reg = LinearRegression()\n",
    "lin_reg.fit(X_train, y_train)\n",
    "\n",
    "y_pred_lr = lin_reg.predict(X_test)\n",
    "mse_lr = mean_squared_error(y_test, y_pred_lr)\n",
    "r2_lr = r2_score(y_test, y_pred_lr)\n",
    "\n",
    "print(\"Linear Regression Performance:\")\n",
    "print(\"Mean Squared Error:\", mse_lr)\n",
    "print(\"R2 Score:\", r2_lr)\n",
    "\n",
    "#Random Forest Model\n",
    "rf_reg = RandomForestRegressor(n_estimators=100, random_state=42)\n",
    "rf_reg.fit(X_train, y_train)\n",
    "\n",
    "y_pred_rf = rf_reg.predict(X_test)\n",
    "mse_rf = mean_squared_error(y_test, y_pred_rf)\n",
    "r2_rf = r2_score(y_test, y_pred_rf)\n",
    "\n",
    "print(\"\\nRandom Forest Performance:\")\n",
    "print(\"Mean Squared Error:\", mse_rf)\n",
    "print(\"R2 Score:\", r2_rf)"
   ]
  },
  {
   "cell_type": "markdown",
   "id": "c2d04dcb",
   "metadata": {},
   "source": [
    "Now, to get a better understanding of how well our models perform, we need to understand the accuracy of the model which is not a well defined evaluation metric for regression, and so here, we define accuracy as the total percentage of all predicted AQI values that lie within $\\pm10\\%$ of the actual AQI values. Note that here, we can set tol=0.2, 0.3 and so on to get even higher accuracies."
   ]
  },
  {
   "cell_type": "code",
   "execution_count": 7,
   "id": "ba8d0f62",
   "metadata": {},
   "outputs": [
    {
     "name": "stdout",
     "output_type": "stream",
     "text": [
      "Linear Regression Accuracy: 44.39%\n",
      "Random Forest Accuracy: 58.97%\n"
     ]
    }
   ],
   "source": [
    "def regression_accuracy(y_true, y_pred, tol=0.1):\n",
    "    accurate = (abs(y_true - y_pred) / abs(y_true)) <= tol\n",
    "    return accurate.mean() * 100  \n",
    "\n",
    "#Calculating the accuracy for Linear Regression\n",
    "accuracy_lr = regression_accuracy(y_test, y_pred_lr)\n",
    "\n",
    "#Calculating the accuracy for Random Forest\n",
    "accuracy_rf = regression_accuracy(y_test, y_pred_rf)\n",
    "\n",
    "print(f\"Linear Regression Accuracy: {accuracy_lr:.2f}%\")\n",
    "print(f\"Random Forest Accuracy: {accuracy_rf:.2f}%\")"
   ]
  },
  {
   "cell_type": "markdown",
   "id": "3326dbf5",
   "metadata": {},
   "source": [
    "Here, we also try to scale our data by standardizing it to $N(0,1)$ which is the standard normal random variable. Here, we also try to improve the performance of our Random Forest Model by employing GridSearchCV."
   ]
  },
  {
   "cell_type": "code",
   "execution_count": 9,
   "id": "57fc43e2",
   "metadata": {},
   "outputs": [
    {
     "name": "stdout",
     "output_type": "stream",
     "text": [
      "Random Forest (with grid search) Accuracy: 59.38%\n"
     ]
    }
   ],
   "source": [
    "import pandas as pd\n",
    "import numpy as np\n",
    "from sklearn.model_selection import GridSearchCV\n",
    "from sklearn.preprocessing import StandardScaler\n",
    "\n",
    "X_train, X_test, y_train, y_test = train_test_split(X, y, test_size=0.2, random_state=42)\n",
    "\n",
    "scaler = StandardScaler()\n",
    "X_train_scaled = scaler.fit_transform(X_train)\n",
    "X_test_scaled = scaler.transform(X_test)\n",
    "\n",
    "#Improving Random Forest with the use of GridSearchCV\n",
    "param_grid = {\n",
    "    'n_estimators': [100, 200],\n",
    "    'max_depth': [None, 10, 20],\n",
    "    'min_samples_split': [2, 5]\n",
    "}\n",
    "rf = RandomForestRegressor(random_state=42, n_jobs=-1)\n",
    "grid_search = GridSearchCV(estimator=rf, param_grid=param_grid, cv=5, scoring='r2', n_jobs=-1)\n",
    "grid_search.fit(X_train_scaled, y_train)\n",
    "best_rf = grid_search.best_estimator_\n",
    "y_pred_rf = best_rf.predict(X_test_scaled)\n",
    "accuracy_rf = regression_accuracy(y_test, y_pred_rf)\n",
    "\n",
    "print(f\"Random Forest (with grid search) Accuracy: {accuracy_rf:.2f}%\")"
   ]
  },
  {
   "cell_type": "markdown",
   "id": "ab043a3e",
   "metadata": {},
   "source": [
    "Now here, we wish to use Polynomial Regression, and so we use the Scikit-Learn PolynomialFeatures to define a polynomial regression model upon which we run Linear Regression using our previously defined class.\n",
    "\n",
    "Just for simplicity, we display the Random Forests and Linear Regression Metric that we had previously gotten as well."
   ]
  },
  {
   "cell_type": "code",
   "execution_count": 10,
   "id": "080a0a6f",
   "metadata": {},
   "outputs": [
    {
     "name": "stdout",
     "output_type": "stream",
     "text": [
      "Linear Regression - MSE: 651.36, R²: 0.92\n",
      "Polynomial Regression (degree 2) - MSE: 582.47, R²: 0.93\n",
      "Random Forest - MSE: 423.70, R²: 0.95\n"
     ]
    }
   ],
   "source": [
    "X = df[['PM2.5', 'PM10', 'NO', 'NO2', 'NOx', 'NH3', 'CO', 'SO2', 'O3', 'Benzene', 'Toluene', 'Xylene']]\n",
    "y = df['AQI']\n",
    "\n",
    "X_train, X_test, y_train, y_test = train_test_split(X, y, test_size=0.2, random_state=42)\n",
    "\n",
    "#Linear Regression\n",
    "print(f\"Linear Regression - MSE: {mse_lr:.2f}, R²: {r2_lr:.2f}\")\n",
    "\n",
    "from sklearn.preprocessing import PolynomialFeatures\n",
    "\n",
    "#Polynomial Regression\n",
    "poly = PolynomialFeatures(degree=2)\n",
    "X_poly_train = poly.fit_transform(X_train)\n",
    "X_poly_test = poly.transform(X_test)\n",
    "\n",
    "lr_poly = LinearRegression()\n",
    "lr_poly.fit(X_poly_train, y_train)\n",
    "\n",
    "y_pred_poly = lr_poly.predict(X_poly_test)\n",
    "mse_poly = mean_squared_error(y_test, y_pred_poly)\n",
    "r2_poly = r2_score(y_test, y_pred_poly)\n",
    "print(f\"Polynomial Regression (degree 2) - MSE: {mse_poly:.2f}, R²: {r2_poly:.2f}\")\n",
    "\n",
    "#Random Forests\n",
    "print(f\"Random Forest - MSE: {mse_rf:.2f}, R²: {r2_rf:.2f}\")"
   ]
  },
  {
   "cell_type": "markdown",
   "id": "cd616c33",
   "metadata": {},
   "source": [
    "Now, we see that currently the Random Forests Model far outperforms both, the Linear Regression and the Polynomial Regression models. \n",
    "\n",
    "We also notice that our previous definition of accuracy is perhaps flawed and too strict and also not as helpful in real application, as really, we are concerned more with the AQI bucket than its face value as that helps us much more in identifying air pollution and combating it. Then, we define a function which groups different levels of AQI into different categories, which are exactly the same as given in the dataset and then we run the regression models on the AQI again but then we try to predict the AQI bucket, thereby turning this problem from regression into classification and so making it much easier for us to evaluate the accuracy of our models, which now is defined the normal way."
   ]
  },
  {
   "cell_type": "code",
   "execution_count": 11,
   "id": "d234c381",
   "metadata": {},
   "outputs": [
    {
     "name": "stdout",
     "output_type": "stream",
     "text": [
      "Linear Regression - Accuracy: 0.78\n",
      "Polynomial Regression - Accuracy: 0.79\n",
      "Random Forest - Accuracy: 0.82\n"
     ]
    }
   ],
   "source": [
    "def aqi_to_category(aqi):\n",
    "    if aqi <= 50:\n",
    "        return \"Good\"\n",
    "    elif aqi <= 100:\n",
    "        return \"Satisfactory\"\n",
    "    elif aqi <= 200:\n",
    "        return \"Moderate\"\n",
    "    elif aqi <= 300:\n",
    "        return \"Poor\"\n",
    "    elif aqi <= 400:\n",
    "        return \"Very Poor\"\n",
    "    else:\n",
    "        return \"Severe\"\n",
    "\n",
    "X = df[['PM2.5', 'PM10', 'NO', 'NO2', 'NOx', 'NH3', 'CO', 'SO2', 'O3', 'Benzene', 'Toluene', 'Xylene']]\n",
    "y = df['AQI']\n",
    "y_bucket = df['AQI_Bucket']\n",
    "\n",
    "X_train, X_test, y_train, y_test, y_bucket_train, y_bucket_test = train_test_split(\n",
    "    X, y, y_bucket, test_size=0.2, random_state=42\n",
    ")\n",
    "\n",
    "#Linear Regression\n",
    "lr = LinearRegression()\n",
    "lr.fit(X_train, y_train)\n",
    "y_pred_lr = np.maximum(lr.predict(X_test), 0)\n",
    "y_pred_lr_categories = np.array([aqi_to_category(aqi) for aqi in y_pred_lr])\n",
    "accuracy_lr = np.mean(y_pred_lr_categories == y_bucket_test.values)\n",
    "print(f\"Linear Regression - Accuracy: {accuracy_lr:.2f}\")\n",
    "\n",
    "#Polynomial Regression\n",
    "poly = PolynomialFeatures(degree=2)\n",
    "X_poly_train = poly.fit_transform(X_train)\n",
    "X_poly_test = poly.transform(X_test)\n",
    "lr_poly = LinearRegression()\n",
    "lr_poly.fit(X_poly_train, y_train)\n",
    "y_pred_poly = np.maximum(lr_poly.predict(X_poly_test), 0)  \n",
    "y_pred_poly_categories = np.array([aqi_to_category(aqi) for aqi in y_pred_poly])\n",
    "accuracy_poly = np.mean(y_pred_poly_categories == y_bucket_test.values)\n",
    "print(f\"Polynomial Regression - Accuracy: {accuracy_poly:.2f}\")\n",
    "\n",
    "#Random Forests\n",
    "rf = RandomForestRegressor(n_estimators=100, random_state=42)\n",
    "rf.fit(X_train, y_train)\n",
    "y_pred_rf = rf.predict(X_test)  \n",
    "y_pred_rf_categories = np.array([aqi_to_category(aqi) for aqi in y_pred_rf])\n",
    "accuracy_rf = np.mean(y_pred_rf_categories == y_bucket_test.values)\n",
    "print(f\"Random Forest - Accuracy: {accuracy_rf:.2f}\")"
   ]
  },
  {
   "cell_type": "markdown",
   "id": "048fea74",
   "metadata": {},
   "source": [
    "Now, currently our models were working the normal way, splitting the data 80:20 randomly and regressing on that using several different models. But in reality, it is a much more useful problem to be able to use the current day's data and predict the next day's AQI, and so here, we shift the AQI column by -1 and run our models on that, so that we are able to get a prediction for future AQI rather than same day AQI which has much more application in the real world."
   ]
  },
  {
   "cell_type": "code",
   "execution_count": 12,
   "id": "751ff835",
   "metadata": {},
   "outputs": [
    {
     "name": "stdout",
     "output_type": "stream",
     "text": [
      "Next Day AQI Prediction Performance:\n",
      "\n",
      "Linear Regression:\n",
      "R² Score: 0.87\n",
      "Mean Squared Error: 1120.32\n",
      "Precision (predictions within ±10%): 39.86%\n",
      "\n",
      "Random Forest:\n",
      "R² Score: 0.89\n",
      "Mean Squared Error: 958.01\n",
      "Precision (predictions within ±10%): 48.04%\n"
     ]
    }
   ],
   "source": [
    "#Creating a new target column: next day's AQI using today's features\n",
    "df['next_AQI'] = df['AQI'].shift(-1)\n",
    "\n",
    "df = df.dropna(subset=['next_AQI'])\n",
    "\n",
    "feature_cols = [col for col in df.select_dtypes(include=[np.number]).columns if col not in ['AQI', 'next_AQI']]\n",
    "X = df[feature_cols]\n",
    "y = df['next_AQI']\n",
    "\n",
    "X_train, X_test, y_train, y_test = train_test_split(X, y, test_size=0.2, random_state=42)\n",
    "\n",
    "scaler = StandardScaler()\n",
    "X_train_scaled = scaler.fit_transform(X_train)\n",
    "X_test_scaled = scaler.transform(X_test)\n",
    "\n",
    "#Linear Regression\n",
    "lin_reg = LinearRegression()\n",
    "lin_reg.fit(X_train_scaled, y_train)\n",
    "y_pred_lr = lin_reg.predict(X_test_scaled)\n",
    "\n",
    "r2_lr = r2_score(y_test, y_pred_lr)\n",
    "mse_lr = mean_squared_error(y_test, y_pred_lr)\n",
    "precision_lr = regression_accuracy(y_test, y_pred_lr)\n",
    "\n",
    "#Random Forest\n",
    "rf = RandomForestRegressor(n_estimators=100, random_state=42)\n",
    "rf.fit(X_train_scaled, y_train)\n",
    "y_pred_rf = rf.predict(X_test_scaled)\n",
    "\n",
    "r2_rf = r2_score(y_test, y_pred_rf)\n",
    "mse_rf = mean_squared_error(y_test, y_pred_rf)\n",
    "precision_rf = regression_accuracy(y_test, y_pred_rf)\n",
    "\n",
    "print(\"Next Day AQI Prediction Performance:\\n\")\n",
    "print(\"Linear Regression:\")\n",
    "print(f\"R² Score: {r2_lr:.2f}\")\n",
    "print(f\"Mean Squared Error: {mse_lr:.2f}\")\n",
    "print(f\"Precision (predictions within ±10%): {precision_lr:.2f}%\\n\")\n",
    "\n",
    "print(\"Random Forest:\")\n",
    "print(f\"R² Score: {r2_rf:.2f}\")\n",
    "print(f\"Mean Squared Error: {mse_rf:.2f}\")\n",
    "print(f\"Precision (predictions within ±10%): {precision_rf:.2f}%\")"
   ]
  },
  {
   "cell_type": "markdown",
   "id": "2c12e86a",
   "metadata": {},
   "source": [
    "We see here then, that these models now perform much worse at predicting next day's AQI than they performed at predicting the current day's AQI. The models however, still give us good R$^2$ scores with relatively low MSE's.\n",
    "\n",
    "Thus, to get a much better sense of the functioning of our models, we define $$\\mathrm{residuals = actual\\:value - predicted\\:value}$$ and plot the distribution of residuals. Since we want our predicted values to be as close to the actual value as possible and so we want our residual distribution to be centred at 0, or rather we wish our residuals distribution to be Gaussian in nature with mean 0 and variance $\\sigma^2$."
   ]
  },
  {
   "cell_type": "code",
   "execution_count": 14,
   "id": "30cc52f4",
   "metadata": {},
   "outputs": [
    {
     "data": {
      "image/png": "[encoded data removed]",
      "text/plain": [
       "<Figure size 1400x600 with 2 Axes>"
      ]
     },
     "metadata": {},
     "output_type": "display_data"
    }
   ],
   "source": [
    "import matplotlib.pyplot as plt\n",
    "import seaborn as sns\n",
    "\n",
    "X_train, X_test, y_train, y_test = train_test_split(X, y, test_size=0.2, random_state=42)\n",
    "\n",
    "#Linear Regression\n",
    "lin_reg = LinearRegression()\n",
    "lin_reg.fit(X_train_scaled, y_train)\n",
    "y_pred_lr = lin_reg.predict(X_test_scaled)\n",
    "residuals_lr = y_pred_lr-y_test\n",
    "average_acc_lr = np.mean(1 - np.abs(residuals_lr / y_test))\n",
    "\n",
    "#Random Forest\n",
    "rf = RandomForestRegressor(n_estimators=100, random_state=42, n_jobs=-1)\n",
    "rf.fit(X_train_scaled, y_train)\n",
    "y_pred_rf = rf.predict(X_test_scaled)\n",
    "residuals_rf = y_test - y_pred_rf\n",
    "average_acc_rf = np.mean(1 - np.abs(residuals_rf / y_test))\n",
    "\n",
    "plt.figure(figsize=(14, 6))\n",
    "\n",
    "#Linear Regression Residuals\n",
    "plt.subplot(1, 2, 1)\n",
    "sns.histplot(residuals_lr, kde=True, color='blue', bins=30)\n",
    "plt.title('Linear Regression Residuals')\n",
    "plt.xlabel('Residual (Actual - Predicted)')\n",
    "plt.ylabel('Frequency')\n",
    "\n",
    "#Random Forest Residuals\n",
    "plt.subplot(1, 2, 2)\n",
    "sns.histplot(residuals_rf, kde=True, color='green', bins=30)\n",
    "plt.title('Random Forest Residuals')\n",
    "plt.xlabel('Residual (Actual - Predicted)')\n",
    "plt.ylabel('Frequency')\n",
    "\n",
    "plt.tight_layout()\n",
    "plt.show()"
   ]
  }
 ],
 "metadata": {
  "kernelspec": {
   "display_name": "Python 3 (ipykernel)",
   "language": "python",
   "name": "python3"
  },
  "language_info": {
   "codemirror_mode": {
    "name": "ipython",
    "version": 3
   },
   "file_extension": ".py",
   "mimetype": "text/x-python",
   "name": "python",
   "nbconvert_exporter": "python",
   "pygments_lexer": "ipython3",
   "version": "3.11.5"
  }
 },
 "nbformat": 4,
 "nbformat_minor": 5
}
